{
 "cells": [
  {
   "cell_type": "code",
   "execution_count": 1,
   "metadata": {},
   "outputs": [],
   "source": [
    "import numpy as np\n",
    "import pandas as pd\n",
    "from model.autoencoder import AutoEncoder\n",
    "# from model.vae import aligned_vae, vae\n",
    "import torch\n",
    "import torch.nn as nn\n",
    "import torch.nn.functional as F\n",
    "from torch.utils.data import Dataset, DataLoader\n",
    "from sklearn.preprocessing import StandardScaler\n",
    "\n",
    "import torch.optim as optim\n",
    "\n",
    "import diffusion_dist as diff\n",
    "import matplotlib.pyplot as plt\n",
    "\n",
    "from sklearn.decomposition import PCA\n",
    "from dataset import *\n",
    "import scipy\n",
    "import math\n",
    "\n",
    "# from model.gae import gnn_vae, aligned_gvae, aligned_gae, GraphConvolutionSage\n",
    "\n",
    "# from model.gae import GraphConvolutionSage\n",
    "from torch.nn.parameter import Parameter\n",
    "\n",
    "\n",
    "from model.loss import gae_loss, gvae_loss\n",
    "\n",
    "device = torch.device('cuda' if torch.cuda.is_available() else 'cpu')"
   ]
  },
  {
   "cell_type": "code",
   "execution_count": 2,
   "metadata": {},
   "outputs": [],
   "source": [
    "\n",
    "class gnn_ae(nn.Module):\n",
    "    def __init__(self, input_feat_dim, hidden_dim1, hidden_dim2, hidden_dim3, dropout = 0.):\n",
    "        super(gnn_ae, self).__init__()\n",
    "\n",
    "        self.gc1 = GraphConvolutionSage(input_feat_dim, hidden_dim1, dropout)\n",
    "        # the later two layers with activation linear\n",
    "        self.gc2 = GraphConvolutionSage(hidden_dim1, hidden_dim2, dropout)\n",
    "\n",
    "        # final layer can be either graph conv or linear\n",
    "#         self.gc3 = GraphConvolutionSage(hidden_dim2, hidden_dim3, dropout)\n",
    "        \n",
    "        self.dc = pairwiseDistDecoder(dropout)\n",
    "\n",
    "\n",
    "\n",
    "    def reset_parameters(self):\n",
    "        self.gc1.reset_parameters()\n",
    "        self.gc2.reset_parameters()\n",
    "#         self.gc3.reset_parameters()\n",
    "\n",
    "\n",
    "    def encode(self, x, adj):\n",
    "        # N * hidden_dim1\n",
    "        hidden1 = self.gc2(self.gc1(x, adj), adj)\n",
    "        # mean and variance of the dimension N * hidden_dim2\n",
    "#         return self.gc3(hidden1, adj)\n",
    "        return hidden1\n",
    "\n",
    "    def forward(self, x, adj):\n",
    "        z = self.encode(x, adj)      \n",
    "        adj_recon = self.dc(z)\n",
    "        return adj_recon, z"
   ]
  },
  {
   "cell_type": "code",
   "execution_count": 3,
   "metadata": {},
   "outputs": [],
   "source": [
    "class GraphConvolutionSage(nn.Module):\n",
    "    \"\"\"\n",
    "    GraphSAGE\n",
    "    \"\"\"\n",
    "\n",
    "    def __init__(self, in_features, out_features, dropout=0.):\n",
    "        super(GraphConvolutionSage, self).__init__()\n",
    "        self.in_features = in_features\n",
    "        self.out_features = out_features\n",
    "        self.dropout = dropout\n",
    "\n",
    "        self.weight_neigh = Parameter(torch.FloatTensor(out_features, out_features))\n",
    "        self.weight_self = Parameter(torch.FloatTensor(in_features, out_features))\n",
    "        self.weight_support = Parameter(torch.FloatTensor(in_features, out_features))\n",
    "        self.weight_linear = Parameter(torch.FloatTensor(out_features, out_features))\n",
    "\n",
    "\n",
    "        # with dimension (1, out_features), with broadcast -> (N, Dout)\n",
    "        self.bias_support = Parameter(torch.FloatTensor(1, out_features))\n",
    "        self.bias_linear = Parameter(torch.FloatTensor(1, out_features))\n",
    "\n",
    "    def reset_parameters(self):\n",
    "        torch.nn.init.xavier_uniform_(self.weight_neigh)\n",
    "        torch.nn.init.xavier_uniform_(self.weight_self)\n",
    "        torch.nn.init.xavier_uniform_(self.weight_support)\n",
    "        torch.nn.init.xavier_uniform_(self.weight_linear)\n",
    "\n",
    "        # initialization requires two dimension\n",
    "        torch.nn.init.xavier_uniform_(self.bias_support)\n",
    "        torch.nn.init.xavier_uniform_(self.bias_linear)\n",
    "        \n",
    "\n",
    "    def forward(self, input, adj):\n",
    "        # first dropout some inputs\n",
    "        input = F.dropout(input, self.dropout, self.training)\n",
    "\n",
    "        # Message: two ways\n",
    "        support = F.sigmoid(torch.mm(input, self.weight_support) + self.bias_support)\n",
    "\n",
    "        # Aggregation:\n",
    "        # addition here, could try element-wise max, make diagonal position 0\n",
    "        output = torch.mm(adj, support)\n",
    "\n",
    "        # Update: \n",
    "        # output of dimension N * Dout, \n",
    "        # tried tanh and relu, not very good result, add one linear layer\n",
    "        output = F.relu(torch.mm(output, self.weight_neigh) + torch.mm(input, self.weight_self))\n",
    "        # output = torch.mm(output, self.weight_linear) + self.bias_linear\n",
    "        \n",
    "        return output\n",
    "\n",
    "    def __repr__(self):\n",
    "        return self.__class__.__name__ + ' (' \\\n",
    "               + str(self.in_features) + ' -> ' \\\n",
    "               + str(self.out_features) + ')'"
   ]
  },
  {
   "cell_type": "code",
   "execution_count": 4,
   "metadata": {},
   "outputs": [],
   "source": [
    "class curr_gae(nn.Module):\n",
    "    def __init__(self, feature1_dim, feature2_dim, hidden_dim1, hidden_dim2, hidden_dim3, dropout = 0.):\n",
    "        super(curr_gae, self).__init__()\n",
    "\n",
    "        self.gae1 = gnn_ae(feature1_dim, hidden_dim1, hidden_dim2, hidden_dim3, dropout = dropout)\n",
    "        self.gae2 = gnn_ae(feature2_dim, hidden_dim1, hidden_dim2, hidden_dim3, dropout=dropout)\n",
    "    \n",
    "    def reset_parameters(self):\n",
    "        self.gae1.reset_parameters()\n",
    "        self.gae2.reset_parameters()\n",
    "\n",
    "    def forward(self, x1, x2, adj1, adj2):\n",
    "        adj_recon1, z1 = self.gae1(x1, adj1)\n",
    "        adj_recon2, z2 = self.gae2(x2, adj2)\n",
    "                \n",
    "        return adj_recon1, adj_recon2, z1, z2"
   ]
  },
  {
   "cell_type": "code",
   "execution_count": 5,
   "metadata": {},
   "outputs": [],
   "source": [
    "\n",
    "class pairwiseDistDecoder(nn.Module):\n",
    "    \"\"\"Decoder for using pair-wise distance for prediction.\"\"\"\n",
    "\n",
    "    def __init__(self, dropout):\n",
    "        super(pairwiseDistDecoder, self).__init__()\n",
    "        self.dropout = dropout\n",
    "\n",
    "    def forward(self, z):\n",
    "        z = F.dropout(z, self.dropout, training=self.training)\n",
    "        x_norm = (z**2).sum(1).view(-1, 1)\n",
    "        y_norm = x_norm.view(1, -1)\n",
    "        dist = x_norm + y_norm - 2.0 * torch.mm(z, torch.transpose(z, 0, 1))\n",
    "\n",
    "        return dist "
   ]
  },
  {
   "cell_type": "code",
   "execution_count": 6,
   "metadata": {},
   "outputs": [],
   "source": [
    "# atac_dataset_diffmap = graphdata('./data/expr_atac_processed.csv', k = 20,  diff = \"diffmap\")\n",
    "# rna_dataset_diffmap = graphdata('./data/expr_rna_processed.csv', k = 20, diff=\"diffmap\")\n",
    "# torch.save(atac_dataset_diffmap, f= \"./data/atac_diffmap.pt\")\n",
    "# torch.save(rna_dataset_diffmap, f = \"./data/rna_diffmap.pt\")\n",
    "atac_dataset_diffmap = torch.load(f = \"./data/atac_diffmap.pt\")\n",
    "rna_dataset_diffmap = torch.load(f = \"./data/rna_diffmap.pt\")"
   ]
  },
  {
   "cell_type": "code",
   "execution_count": 7,
   "metadata": {},
   "outputs": [],
   "source": [
    "# atac_dataset_dpt = graphdata('./data/expr_atac_processed.csv', k = 20,  diff = \"dpt\")\n",
    "# rna_dataset_dpt = graphdata('./data/expr_rna_processed.csv', k = 20, diff=\"dpt\")\n",
    "# torch.save(atac_dataset_dpt, f = \"./data/atac_dpt.pt\")\n",
    "# torch.save(rna_dataset_dpt, f = \"./data/rna_dpt.pt\")\n",
    "atac_dataset_dpt = torch.load(f = \"./data/atac_dpt.pt\")\n",
    "rna_dataset_dpt = torch.load(f = \"./data/rna_dpt.pt\")"
   ]
  },
  {
   "cell_type": "code",
   "execution_count": 8,
   "metadata": {},
   "outputs": [],
   "source": [
    "atac_dataset_dpt = testgraphdata(None, 10)\n",
    "rna_dataset_dpt = testgraphdata(None, 10)"
   ]
  },
  {
   "cell_type": "code",
   "execution_count": 9,
   "metadata": {
    "tags": []
   },
   "outputs": [],
   "source": [
    "# gvae = aligned_gvae(feature1_dim = rna_dataset_diffmap['X'].shape[1], feature2_dim = atac_dataset_diffmap['X'].shape[1], hidden_dim1 = 128, hidden_dim2 = 32, hidden_dim3 = 2, dropout = 0., use_mlp = False, decoder = \"distance\")\n",
    "\n",
    "# optimizer = optim.Adam(gvae.parameters(), lr=1e-2, weight_decay=0.01)\n",
    "# gvae.train()\n",
    "# gvae.reset_parameters()\n",
    "\n",
    "# for epoch in range(0, 60):\n",
    "\n",
    "#     optimizer.zero_grad()\n",
    "\n",
    "#     dist_rna, dist_atac, latent_rna, latent_atac, logvar_rna, logvar_atac = gvae(rna_dataset_diffmap['X'], atac_dataset_diffmap['X'], rna_dataset_diffmap['similarity'], atac_dataset_diffmap['similarity'])\n",
    "\n",
    "#     loss, loss_align, loss_dist_atac,  loss_dist_rna, kl_atac, kl_rna = gvae_loss(latent1 = latent_rna, latent2 = latent_atac, adj1 = rna_dataset_diffmap['adj'], adj2 = atac_dataset_diffmap['adj'], recon_adj1 = dist_rna, recon_adj2 = dist_atac, logvar_latent1 = logvar_rna, logvar_latent2 = logvar_atac, lamb_align = 0, lamb_kl = 0, dist_loss_type = \"cosine\")\n",
    "#     loss.backward()\n",
    "#     optimizer.step()\n",
    "#     # print(latent_rna)\n",
    "\n",
    "#     if epoch % 10 == 0:\n",
    "#         log = \"Epoch: {:03d}, Total loss: {:.5f}, loss align {:.5f}, Dist RNA loss {:.5f}, Dist ATAC loss {:.5f}, KL atac loss: {:.5f}, KL rna loss: {:.5f}\"\n",
    "#         print(log.format(epoch, loss, loss_align, loss_dist_atac, loss_dist_rna, kl_atac, kl_rna))"
   ]
  },
  {
   "cell_type": "code",
   "execution_count": 36,
   "metadata": {},
   "outputs": [],
   "source": [
    "def mse_loss(latent1, latent2, adj1, adj2, recon_adj1, recon_adj2, lamb_align = 0.01):\n",
    "\n",
    "    loss_align = lamb_align * torch.norm(latent1 - latent2, p = 'fro')\n",
    "    adj1 = adj1 ** 2\n",
    "    adj2 = adj2 ** 2\n",
    "    # orig_1 = (adj1 / torch.norm(adj1, p = 'fro')).reshape(1, -1) * 1000\n",
    "    # reco_1 = (recon_adj1 / torch.norm(recon_adj1, p = \"fro\")).reshape(1, -1) * 1000\n",
    "\n",
    "    # orig_2 = (adj2 / torch.norm(adj2, p = 'fro')).reshape(1, -1) * 1000\n",
    "    # reco_2 = (recon_adj2 / torch.norm(recon_adj2, p = \"fro\")).reshape(1, -1) * 1000\n",
    "\n",
    "    # similarity_loss1 = F.mse_loss(orig_1, reco_1)\n",
    "    # similarity_loss2 = F.mse_loss(orig_2, reco_2)\n",
    "\n",
    "    adj1 = (adj1 / torch.norm(adj1, p = 'fro')) * 1000\n",
    "    adj2 = (adj2 / torch.norm(adj2, p = 'fro')) * 1000\n",
    "    recon_1 = (recon_adj1 / torch.norm(recon_adj1, p = \"fro\")) * 1000\n",
    "    recon_2 = (recon_adj2 / torch.norm(recon_adj2, p = \"fro\")) * 1000\n",
    "    # similarity_loss1 = torch.norm(recon_adj1 - adj1, p = \"fro\") \n",
    "    # similarity_loss2 = torch.norm(recon_adj2 - adj2, p = \"fro\")\n",
    "    similarity_loss1 = F.mse_loss(adj1, recon_1, reduce=\"none\")\n",
    "    similarity_loss2 = F.mse_loss(adj2, recon_2, reduce=\"none\")\n",
    "\n",
    "    loss_align = 0\n",
    "    loss = loss_align + similarity_loss1 + similarity_loss2 \n",
    "    \n",
    "    return loss, loss_align, similarity_loss1,  similarity_loss2"
   ]
  },
  {
   "cell_type": "code",
   "execution_count": 24,
   "metadata": {
    "tags": []
   },
   "outputs": [
    {
     "output_type": "stream",
     "name": "stdout",
     "text": "[[0.         0.33333333 0.66666667]\n [0.25       0.33333333 0.41666667]]\n"
    }
   ],
   "source": [
    "x = np.array([[0,1,2],[3,4,5]])\n",
    "print(x / np.sum(x, axis=1)[:,None])"
   ]
  },
  {
   "cell_type": "code",
   "execution_count": 25,
   "metadata": {},
   "outputs": [],
   "source": [
    "# use distance matrix\n",
    "\n",
    "gae = curr_gae(feature1_dim = rna_dataset_dpt['X'].shape[1], feature2_dim = rna_dataset_dpt['X'].shape[1], hidden_dim1 = 128, hidden_dim2 = 32, hidden_dim3 = 2, dropout = 0.)\n",
    "\n",
    "optimizer = optim.Adam(gae.parameters(), lr=1e-3, weight_decay=0.01)\n",
    "gae.train()\n",
    "gae.reset_parameters()"
   ]
  },
  {
   "cell_type": "code",
   "execution_count": 38,
   "metadata": {
    "tags": []
   },
   "outputs": [
    {
     "output_type": "stream",
     "name": "stdout",
     "text": "Epoch: 000, Total loss: 384.19400, loss align 0.00000, Dist RNA loss 185.49480, Dist ATAC loss 198.69920\nEpoch: 010, Total loss: 375.59631, loss align 0.00000, Dist RNA loss 183.47282, Dist ATAC loss 192.12350\nEpoch: 020, Total loss: 370.02753, loss align 0.00000, Dist RNA loss 180.11426, Dist ATAC loss 189.91327\nEpoch: 030, Total loss: 369.99060, loss align 0.00000, Dist RNA loss 183.48442, Dist ATAC loss 186.50616\nEpoch: 040, Total loss: 370.42966, loss align 0.00000, Dist RNA loss 180.93408, Dist ATAC loss 189.49557\nEpoch: 050, Total loss: 367.74768, loss align 0.00000, Dist RNA loss 180.10141, Dist ATAC loss 187.64629\nEpoch: 060, Total loss: 370.30154, loss align 0.00000, Dist RNA loss 183.85730, Dist ATAC loss 186.44424\nEpoch: 070, Total loss: 375.34991, loss align 0.00000, Dist RNA loss 180.61580, Dist ATAC loss 194.73412\nEpoch: 080, Total loss: 369.91632, loss align 0.00000, Dist RNA loss 180.09976, Dist ATAC loss 189.81654\nEpoch: 090, Total loss: 370.49976, loss align 0.00000, Dist RNA loss 181.33829, Dist ATAC loss 189.16147\nEpoch: 100, Total loss: 376.90552, loss align 0.00000, Dist RNA loss 190.60736, Dist ATAC loss 186.29817\nEpoch: 110, Total loss: 378.70416, loss align 0.00000, Dist RNA loss 184.44905, Dist ATAC loss 194.25511\nEpoch: 120, Total loss: 380.79645, loss align 0.00000, Dist RNA loss 185.26523, Dist ATAC loss 195.53122\nEpoch: 130, Total loss: 381.67975, loss align 0.00000, Dist RNA loss 182.22079, Dist ATAC loss 199.45894\nEpoch: 140, Total loss: 383.59552, loss align 0.00000, Dist RNA loss 184.03604, Dist ATAC loss 199.55949\nEpoch: 150, Total loss: 387.63239, loss align 0.00000, Dist RNA loss 188.06729, Dist ATAC loss 199.56509\nEpoch: 160, Total loss: 384.46594, loss align 0.00000, Dist RNA loss 184.91158, Dist ATAC loss 199.55438\nEpoch: 170, Total loss: 384.70673, loss align 0.00000, Dist RNA loss 185.17262, Dist ATAC loss 199.53409\nEpoch: 180, Total loss: 380.48047, loss align 0.00000, Dist RNA loss 180.99226, Dist ATAC loss 199.48820\nEpoch: 190, Total loss: 380.18185, loss align 0.00000, Dist RNA loss 180.77711, Dist ATAC loss 199.40474\n"
    }
   ],
   "source": [
    "\n",
    "\n",
    "for epoch in range(0, 200):\n",
    "\n",
    "    optimizer.zero_grad()\n",
    "\n",
    "    dist_rna, dist_atac, latent_rna, latent_atac = gae(rna_dataset_dpt['X'], rna_dataset_dpt['X'], rna_dataset_dpt['similarity'], rna_dataset_dpt['similarity'])\n",
    "\n",
    "    # loss, loss_align, loss_dist_atac,  loss_dist_rna = gae_loss(latent1 = latent_rna, latent2 = latent_atac, adj1 = rna_dataset_diffmap['adj'], adj2 = atac_dataset_diffmap['adj'], recon_adj1 = dist_rna, recon_adj2 = dist_atac, lamb_align = 1e-3, dist_loss_type = \"mse\")\n",
    "\n",
    "    loss, loss_align, loss_dist_atac,  loss_dist_rna = mse_loss(latent1 = latent_rna, latent2 = latent_atac, adj1 = rna_dataset_dpt['adj'], adj2 = atac_dataset_dpt['adj'], recon_adj1 = dist_rna, recon_adj2 = dist_atac)\n",
    "    loss.backward()\n",
    "    \n",
    "    # print(latent_rna)\n",
    "    \n",
    "    if epoch % 10 == 0 or epoch == 0:\n",
    "        log = \"Epoch: {:03d}, Total loss: {:.5f}, loss align {:.5f}, Dist RNA loss {:.5f}, Dist ATAC loss {:.5f}\"\n",
    "        print(log.format(epoch, loss, loss_align, loss_dist_atac, loss_dist_rna))\n",
    "    \n",
    "    optimizer.step()"
   ]
  },
  {
   "cell_type": "code",
   "execution_count": null,
   "metadata": {},
   "outputs": [],
   "source": [
    "torch.sum(torch.isnan(rna_dataset_dpt['similarity']))"
   ]
  },
  {
   "cell_type": "code",
   "execution_count": 39,
   "metadata": {},
   "outputs": [
    {
     "output_type": "error",
     "ename": "RuntimeError",
     "evalue": "size mismatch, m1: [2641 x 1185], m2: [100 x 128] at C:\\w\\1\\s\\tmp_conda_3.7_100118\\conda\\conda-bld\\pytorch_1579082551706\\work\\aten\\src\\TH/generic/THTensorMath.cpp:136",
     "traceback": [
      "\u001b[1;31m---------------------------------------------------------------------------\u001b[0m",
      "\u001b[1;31mRuntimeError\u001b[0m                              Traceback (most recent call last)",
      "\u001b[1;32m<ipython-input-39-201b5cd96b55>\u001b[0m in \u001b[0;36m<module>\u001b[1;34m\u001b[0m\n\u001b[0;32m      1\u001b[0m \u001b[0mgae\u001b[0m\u001b[1;33m.\u001b[0m\u001b[0meval\u001b[0m\u001b[1;33m(\u001b[0m\u001b[1;33m)\u001b[0m\u001b[1;33m\u001b[0m\u001b[1;33m\u001b[0m\u001b[0m\n\u001b[1;32m----> 2\u001b[1;33m \u001b[0mdist_rna\u001b[0m\u001b[1;33m,\u001b[0m \u001b[0mdist_atac\u001b[0m\u001b[1;33m,\u001b[0m \u001b[0mlatent_rna\u001b[0m\u001b[1;33m,\u001b[0m \u001b[0mlatent_atac\u001b[0m\u001b[1;33m,\u001b[0m \u001b[0mlogvar_rna\u001b[0m\u001b[1;33m,\u001b[0m \u001b[0mlogvar_atac\u001b[0m \u001b[1;33m=\u001b[0m \u001b[0mgae\u001b[0m\u001b[1;33m(\u001b[0m\u001b[0mrna_dataset_diffmap\u001b[0m\u001b[1;33m[\u001b[0m\u001b[1;34m'X'\u001b[0m\u001b[1;33m]\u001b[0m\u001b[1;33m,\u001b[0m \u001b[0matac_dataset_diffmap\u001b[0m\u001b[1;33m[\u001b[0m\u001b[1;34m'X'\u001b[0m\u001b[1;33m]\u001b[0m\u001b[1;33m,\u001b[0m \u001b[0mrna_dataset_diffmap\u001b[0m\u001b[1;33m[\u001b[0m\u001b[1;34m'similarity'\u001b[0m\u001b[1;33m]\u001b[0m\u001b[1;33m,\u001b[0m \u001b[0matac_dataset_diffmap\u001b[0m\u001b[1;33m[\u001b[0m\u001b[1;34m'similarity'\u001b[0m\u001b[1;33m]\u001b[0m\u001b[1;33m)\u001b[0m\u001b[1;33m\u001b[0m\u001b[1;33m\u001b[0m\u001b[0m\n\u001b[0m\u001b[0;32m      3\u001b[0m \u001b[1;33m\u001b[0m\u001b[0m\n\u001b[0;32m      4\u001b[0m \u001b[0mz1\u001b[0m \u001b[1;33m=\u001b[0m \u001b[0mlatent_rna\u001b[0m\u001b[1;33m.\u001b[0m\u001b[0mdetach\u001b[0m\u001b[1;33m(\u001b[0m\u001b[1;33m)\u001b[0m\u001b[1;33m.\u001b[0m\u001b[0mcpu\u001b[0m\u001b[1;33m(\u001b[0m\u001b[1;33m)\u001b[0m\u001b[1;33m.\u001b[0m\u001b[0mnumpy\u001b[0m\u001b[1;33m(\u001b[0m\u001b[1;33m)\u001b[0m\u001b[1;33m\u001b[0m\u001b[1;33m\u001b[0m\u001b[0m\n\u001b[0;32m      5\u001b[0m \u001b[0mz2\u001b[0m \u001b[1;33m=\u001b[0m \u001b[0mlatent_atac\u001b[0m\u001b[1;33m.\u001b[0m\u001b[0mdetach\u001b[0m\u001b[1;33m(\u001b[0m\u001b[1;33m)\u001b[0m\u001b[1;33m.\u001b[0m\u001b[0mcpu\u001b[0m\u001b[1;33m(\u001b[0m\u001b[1;33m)\u001b[0m\u001b[1;33m.\u001b[0m\u001b[0mnumpy\u001b[0m\u001b[1;33m(\u001b[0m\u001b[1;33m)\u001b[0m\u001b[1;33m\u001b[0m\u001b[1;33m\u001b[0m\u001b[0m\n",
      "\u001b[1;32m~\\Anaconda3\\lib\\site-packages\\torch\\nn\\modules\\module.py\u001b[0m in \u001b[0;36m__call__\u001b[1;34m(self, *input, **kwargs)\u001b[0m\n\u001b[0;32m    530\u001b[0m             \u001b[0mresult\u001b[0m \u001b[1;33m=\u001b[0m \u001b[0mself\u001b[0m\u001b[1;33m.\u001b[0m\u001b[0m_slow_forward\u001b[0m\u001b[1;33m(\u001b[0m\u001b[1;33m*\u001b[0m\u001b[0minput\u001b[0m\u001b[1;33m,\u001b[0m \u001b[1;33m**\u001b[0m\u001b[0mkwargs\u001b[0m\u001b[1;33m)\u001b[0m\u001b[1;33m\u001b[0m\u001b[1;33m\u001b[0m\u001b[0m\n\u001b[0;32m    531\u001b[0m         \u001b[1;32melse\u001b[0m\u001b[1;33m:\u001b[0m\u001b[1;33m\u001b[0m\u001b[1;33m\u001b[0m\u001b[0m\n\u001b[1;32m--> 532\u001b[1;33m             \u001b[0mresult\u001b[0m \u001b[1;33m=\u001b[0m \u001b[0mself\u001b[0m\u001b[1;33m.\u001b[0m\u001b[0mforward\u001b[0m\u001b[1;33m(\u001b[0m\u001b[1;33m*\u001b[0m\u001b[0minput\u001b[0m\u001b[1;33m,\u001b[0m \u001b[1;33m**\u001b[0m\u001b[0mkwargs\u001b[0m\u001b[1;33m)\u001b[0m\u001b[1;33m\u001b[0m\u001b[1;33m\u001b[0m\u001b[0m\n\u001b[0m\u001b[0;32m    533\u001b[0m         \u001b[1;32mfor\u001b[0m \u001b[0mhook\u001b[0m \u001b[1;32min\u001b[0m \u001b[0mself\u001b[0m\u001b[1;33m.\u001b[0m\u001b[0m_forward_hooks\u001b[0m\u001b[1;33m.\u001b[0m\u001b[0mvalues\u001b[0m\u001b[1;33m(\u001b[0m\u001b[1;33m)\u001b[0m\u001b[1;33m:\u001b[0m\u001b[1;33m\u001b[0m\u001b[1;33m\u001b[0m\u001b[0m\n\u001b[0;32m    534\u001b[0m             \u001b[0mhook_result\u001b[0m \u001b[1;33m=\u001b[0m \u001b[0mhook\u001b[0m\u001b[1;33m(\u001b[0m\u001b[0mself\u001b[0m\u001b[1;33m,\u001b[0m \u001b[0minput\u001b[0m\u001b[1;33m,\u001b[0m \u001b[0mresult\u001b[0m\u001b[1;33m)\u001b[0m\u001b[1;33m\u001b[0m\u001b[1;33m\u001b[0m\u001b[0m\n",
      "\u001b[1;32m<ipython-input-4-441279f05847>\u001b[0m in \u001b[0;36mforward\u001b[1;34m(self, x1, x2, adj1, adj2)\u001b[0m\n\u001b[0;32m     11\u001b[0m \u001b[1;33m\u001b[0m\u001b[0m\n\u001b[0;32m     12\u001b[0m     \u001b[1;32mdef\u001b[0m \u001b[0mforward\u001b[0m\u001b[1;33m(\u001b[0m\u001b[0mself\u001b[0m\u001b[1;33m,\u001b[0m \u001b[0mx1\u001b[0m\u001b[1;33m,\u001b[0m \u001b[0mx2\u001b[0m\u001b[1;33m,\u001b[0m \u001b[0madj1\u001b[0m\u001b[1;33m,\u001b[0m \u001b[0madj2\u001b[0m\u001b[1;33m)\u001b[0m\u001b[1;33m:\u001b[0m\u001b[1;33m\u001b[0m\u001b[1;33m\u001b[0m\u001b[0m\n\u001b[1;32m---> 13\u001b[1;33m         \u001b[0madj_recon1\u001b[0m\u001b[1;33m,\u001b[0m \u001b[0mz1\u001b[0m \u001b[1;33m=\u001b[0m \u001b[0mself\u001b[0m\u001b[1;33m.\u001b[0m\u001b[0mgae1\u001b[0m\u001b[1;33m(\u001b[0m\u001b[0mx1\u001b[0m\u001b[1;33m,\u001b[0m \u001b[0madj1\u001b[0m\u001b[1;33m)\u001b[0m\u001b[1;33m\u001b[0m\u001b[1;33m\u001b[0m\u001b[0m\n\u001b[0m\u001b[0;32m     14\u001b[0m         \u001b[0madj_recon2\u001b[0m\u001b[1;33m,\u001b[0m \u001b[0mz2\u001b[0m \u001b[1;33m=\u001b[0m \u001b[0mself\u001b[0m\u001b[1;33m.\u001b[0m\u001b[0mgae2\u001b[0m\u001b[1;33m(\u001b[0m\u001b[0mx2\u001b[0m\u001b[1;33m,\u001b[0m \u001b[0madj2\u001b[0m\u001b[1;33m)\u001b[0m\u001b[1;33m\u001b[0m\u001b[1;33m\u001b[0m\u001b[0m\n\u001b[0;32m     15\u001b[0m \u001b[1;33m\u001b[0m\u001b[0m\n",
      "\u001b[1;32m~\\Anaconda3\\lib\\site-packages\\torch\\nn\\modules\\module.py\u001b[0m in \u001b[0;36m__call__\u001b[1;34m(self, *input, **kwargs)\u001b[0m\n\u001b[0;32m    530\u001b[0m             \u001b[0mresult\u001b[0m \u001b[1;33m=\u001b[0m \u001b[0mself\u001b[0m\u001b[1;33m.\u001b[0m\u001b[0m_slow_forward\u001b[0m\u001b[1;33m(\u001b[0m\u001b[1;33m*\u001b[0m\u001b[0minput\u001b[0m\u001b[1;33m,\u001b[0m \u001b[1;33m**\u001b[0m\u001b[0mkwargs\u001b[0m\u001b[1;33m)\u001b[0m\u001b[1;33m\u001b[0m\u001b[1;33m\u001b[0m\u001b[0m\n\u001b[0;32m    531\u001b[0m         \u001b[1;32melse\u001b[0m\u001b[1;33m:\u001b[0m\u001b[1;33m\u001b[0m\u001b[1;33m\u001b[0m\u001b[0m\n\u001b[1;32m--> 532\u001b[1;33m             \u001b[0mresult\u001b[0m \u001b[1;33m=\u001b[0m \u001b[0mself\u001b[0m\u001b[1;33m.\u001b[0m\u001b[0mforward\u001b[0m\u001b[1;33m(\u001b[0m\u001b[1;33m*\u001b[0m\u001b[0minput\u001b[0m\u001b[1;33m,\u001b[0m \u001b[1;33m**\u001b[0m\u001b[0mkwargs\u001b[0m\u001b[1;33m)\u001b[0m\u001b[1;33m\u001b[0m\u001b[1;33m\u001b[0m\u001b[0m\n\u001b[0m\u001b[0;32m    533\u001b[0m         \u001b[1;32mfor\u001b[0m \u001b[0mhook\u001b[0m \u001b[1;32min\u001b[0m \u001b[0mself\u001b[0m\u001b[1;33m.\u001b[0m\u001b[0m_forward_hooks\u001b[0m\u001b[1;33m.\u001b[0m\u001b[0mvalues\u001b[0m\u001b[1;33m(\u001b[0m\u001b[1;33m)\u001b[0m\u001b[1;33m:\u001b[0m\u001b[1;33m\u001b[0m\u001b[1;33m\u001b[0m\u001b[0m\n\u001b[0;32m    534\u001b[0m             \u001b[0mhook_result\u001b[0m \u001b[1;33m=\u001b[0m \u001b[0mhook\u001b[0m\u001b[1;33m(\u001b[0m\u001b[0mself\u001b[0m\u001b[1;33m,\u001b[0m \u001b[0minput\u001b[0m\u001b[1;33m,\u001b[0m \u001b[0mresult\u001b[0m\u001b[1;33m)\u001b[0m\u001b[1;33m\u001b[0m\u001b[1;33m\u001b[0m\u001b[0m\n",
      "\u001b[1;32m<ipython-input-2-1b08846717f8>\u001b[0m in \u001b[0;36mforward\u001b[1;34m(self, x, adj)\u001b[0m\n\u001b[0;32m     28\u001b[0m \u001b[1;33m\u001b[0m\u001b[0m\n\u001b[0;32m     29\u001b[0m     \u001b[1;32mdef\u001b[0m \u001b[0mforward\u001b[0m\u001b[1;33m(\u001b[0m\u001b[0mself\u001b[0m\u001b[1;33m,\u001b[0m \u001b[0mx\u001b[0m\u001b[1;33m,\u001b[0m \u001b[0madj\u001b[0m\u001b[1;33m)\u001b[0m\u001b[1;33m:\u001b[0m\u001b[1;33m\u001b[0m\u001b[1;33m\u001b[0m\u001b[0m\n\u001b[1;32m---> 30\u001b[1;33m         \u001b[0mz\u001b[0m \u001b[1;33m=\u001b[0m \u001b[0mself\u001b[0m\u001b[1;33m.\u001b[0m\u001b[0mencode\u001b[0m\u001b[1;33m(\u001b[0m\u001b[0mx\u001b[0m\u001b[1;33m,\u001b[0m \u001b[0madj\u001b[0m\u001b[1;33m)\u001b[0m\u001b[1;33m\u001b[0m\u001b[1;33m\u001b[0m\u001b[0m\n\u001b[0m\u001b[0;32m     31\u001b[0m         \u001b[0madj_recon\u001b[0m \u001b[1;33m=\u001b[0m \u001b[0mself\u001b[0m\u001b[1;33m.\u001b[0m\u001b[0mdc\u001b[0m\u001b[1;33m(\u001b[0m\u001b[0mz\u001b[0m\u001b[1;33m)\u001b[0m\u001b[1;33m\u001b[0m\u001b[1;33m\u001b[0m\u001b[0m\n\u001b[0;32m     32\u001b[0m         \u001b[1;32mreturn\u001b[0m \u001b[0madj_recon\u001b[0m\u001b[1;33m,\u001b[0m \u001b[0mz\u001b[0m\u001b[1;33m\u001b[0m\u001b[1;33m\u001b[0m\u001b[0m\n",
      "\u001b[1;32m<ipython-input-2-1b08846717f8>\u001b[0m in \u001b[0;36mencode\u001b[1;34m(self, x, adj)\u001b[0m\n\u001b[0;32m     22\u001b[0m     \u001b[1;32mdef\u001b[0m \u001b[0mencode\u001b[0m\u001b[1;33m(\u001b[0m\u001b[0mself\u001b[0m\u001b[1;33m,\u001b[0m \u001b[0mx\u001b[0m\u001b[1;33m,\u001b[0m \u001b[0madj\u001b[0m\u001b[1;33m)\u001b[0m\u001b[1;33m:\u001b[0m\u001b[1;33m\u001b[0m\u001b[1;33m\u001b[0m\u001b[0m\n\u001b[0;32m     23\u001b[0m         \u001b[1;31m# N * hidden_dim1\u001b[0m\u001b[1;33m\u001b[0m\u001b[1;33m\u001b[0m\u001b[1;33m\u001b[0m\u001b[0m\n\u001b[1;32m---> 24\u001b[1;33m         \u001b[0mhidden1\u001b[0m \u001b[1;33m=\u001b[0m \u001b[0mself\u001b[0m\u001b[1;33m.\u001b[0m\u001b[0mgc2\u001b[0m\u001b[1;33m(\u001b[0m\u001b[0mself\u001b[0m\u001b[1;33m.\u001b[0m\u001b[0mgc1\u001b[0m\u001b[1;33m(\u001b[0m\u001b[0mx\u001b[0m\u001b[1;33m,\u001b[0m \u001b[0madj\u001b[0m\u001b[1;33m)\u001b[0m\u001b[1;33m,\u001b[0m \u001b[0madj\u001b[0m\u001b[1;33m)\u001b[0m\u001b[1;33m\u001b[0m\u001b[1;33m\u001b[0m\u001b[0m\n\u001b[0m\u001b[0;32m     25\u001b[0m         \u001b[1;31m# mean and variance of the dimension N * hidden_dim2\u001b[0m\u001b[1;33m\u001b[0m\u001b[1;33m\u001b[0m\u001b[1;33m\u001b[0m\u001b[0m\n\u001b[0;32m     26\u001b[0m \u001b[1;31m#         return self.gc3(hidden1, adj)\u001b[0m\u001b[1;33m\u001b[0m\u001b[1;33m\u001b[0m\u001b[1;33m\u001b[0m\u001b[0m\n",
      "\u001b[1;32m~\\Anaconda3\\lib\\site-packages\\torch\\nn\\modules\\module.py\u001b[0m in \u001b[0;36m__call__\u001b[1;34m(self, *input, **kwargs)\u001b[0m\n\u001b[0;32m    530\u001b[0m             \u001b[0mresult\u001b[0m \u001b[1;33m=\u001b[0m \u001b[0mself\u001b[0m\u001b[1;33m.\u001b[0m\u001b[0m_slow_forward\u001b[0m\u001b[1;33m(\u001b[0m\u001b[1;33m*\u001b[0m\u001b[0minput\u001b[0m\u001b[1;33m,\u001b[0m \u001b[1;33m**\u001b[0m\u001b[0mkwargs\u001b[0m\u001b[1;33m)\u001b[0m\u001b[1;33m\u001b[0m\u001b[1;33m\u001b[0m\u001b[0m\n\u001b[0;32m    531\u001b[0m         \u001b[1;32melse\u001b[0m\u001b[1;33m:\u001b[0m\u001b[1;33m\u001b[0m\u001b[1;33m\u001b[0m\u001b[0m\n\u001b[1;32m--> 532\u001b[1;33m             \u001b[0mresult\u001b[0m \u001b[1;33m=\u001b[0m \u001b[0mself\u001b[0m\u001b[1;33m.\u001b[0m\u001b[0mforward\u001b[0m\u001b[1;33m(\u001b[0m\u001b[1;33m*\u001b[0m\u001b[0minput\u001b[0m\u001b[1;33m,\u001b[0m \u001b[1;33m**\u001b[0m\u001b[0mkwargs\u001b[0m\u001b[1;33m)\u001b[0m\u001b[1;33m\u001b[0m\u001b[1;33m\u001b[0m\u001b[0m\n\u001b[0m\u001b[0;32m    533\u001b[0m         \u001b[1;32mfor\u001b[0m \u001b[0mhook\u001b[0m \u001b[1;32min\u001b[0m \u001b[0mself\u001b[0m\u001b[1;33m.\u001b[0m\u001b[0m_forward_hooks\u001b[0m\u001b[1;33m.\u001b[0m\u001b[0mvalues\u001b[0m\u001b[1;33m(\u001b[0m\u001b[1;33m)\u001b[0m\u001b[1;33m:\u001b[0m\u001b[1;33m\u001b[0m\u001b[1;33m\u001b[0m\u001b[0m\n\u001b[0;32m    534\u001b[0m             \u001b[0mhook_result\u001b[0m \u001b[1;33m=\u001b[0m \u001b[0mhook\u001b[0m\u001b[1;33m(\u001b[0m\u001b[0mself\u001b[0m\u001b[1;33m,\u001b[0m \u001b[0minput\u001b[0m\u001b[1;33m,\u001b[0m \u001b[0mresult\u001b[0m\u001b[1;33m)\u001b[0m\u001b[1;33m\u001b[0m\u001b[1;33m\u001b[0m\u001b[0m\n",
      "\u001b[1;32m<ipython-input-3-9347c2c96fb7>\u001b[0m in \u001b[0;36mforward\u001b[1;34m(self, input, adj)\u001b[0m\n\u001b[0;32m     36\u001b[0m \u001b[1;33m\u001b[0m\u001b[0m\n\u001b[0;32m     37\u001b[0m         \u001b[1;31m# Message: two ways\u001b[0m\u001b[1;33m\u001b[0m\u001b[1;33m\u001b[0m\u001b[1;33m\u001b[0m\u001b[0m\n\u001b[1;32m---> 38\u001b[1;33m         \u001b[0msupport\u001b[0m \u001b[1;33m=\u001b[0m \u001b[0mF\u001b[0m\u001b[1;33m.\u001b[0m\u001b[0msigmoid\u001b[0m\u001b[1;33m(\u001b[0m\u001b[0mtorch\u001b[0m\u001b[1;33m.\u001b[0m\u001b[0mmm\u001b[0m\u001b[1;33m(\u001b[0m\u001b[0minput\u001b[0m\u001b[1;33m,\u001b[0m \u001b[0mself\u001b[0m\u001b[1;33m.\u001b[0m\u001b[0mweight_support\u001b[0m\u001b[1;33m)\u001b[0m \u001b[1;33m+\u001b[0m \u001b[0mself\u001b[0m\u001b[1;33m.\u001b[0m\u001b[0mbias_support\u001b[0m\u001b[1;33m)\u001b[0m\u001b[1;33m\u001b[0m\u001b[1;33m\u001b[0m\u001b[0m\n\u001b[0m\u001b[0;32m     39\u001b[0m \u001b[1;33m\u001b[0m\u001b[0m\n\u001b[0;32m     40\u001b[0m         \u001b[1;31m# Aggregation:\u001b[0m\u001b[1;33m\u001b[0m\u001b[1;33m\u001b[0m\u001b[1;33m\u001b[0m\u001b[0m\n",
      "\u001b[1;31mRuntimeError\u001b[0m: size mismatch, m1: [2641 x 1185], m2: [100 x 128] at C:\\w\\1\\s\\tmp_conda_3.7_100118\\conda\\conda-bld\\pytorch_1579082551706\\work\\aten\\src\\TH/generic/THTensorMath.cpp:136"
     ]
    }
   ],
   "source": [
    "gae.eval()\n",
    "dist_rna, dist_atac, latent_rna, latent_atac, logvar_rna, logvar_atac = gae(rna_dataset_diffmap['X'], atac_dataset_diffmap['X'], rna_dataset_diffmap['similarity'], atac_dataset_diffmap['similarity'])\n",
    "\n",
    "z1 = latent_rna.detach().cpu().numpy()\n",
    "z2 = latent_atac.detach().cpu().numpy()\n",
    "\n",
    "fig = plt.figure(figsize = (20,10))\n",
    "ax = fig.add_subplot()\n",
    "ax.scatter(z1[:,0], z1[:,1], c = np.arange(rna_dataset_diffmap['X'].shape[0]))"
   ]
  },
  {
   "cell_type": "code",
   "execution_count": null,
   "metadata": {},
   "outputs": [],
   "source": []
  }
 ],
 "metadata": {
  "kernelspec": {
   "display_name": "Python 3.7.4 64-bit ('base': conda)",
   "language": "python",
   "name": "python37464bitbaseconda2e78fba803054b619846b3ac80887a83"
  },
  "language_info": {
   "codemirror_mode": {
    "name": "ipython",
    "version": 3
   },
   "file_extension": ".py",
   "mimetype": "text/x-python",
   "name": "python",
   "nbconvert_exporter": "python",
   "pygments_lexer": "ipython3",
   "version": "3.7.4-final"
  }
 },
 "nbformat": 4,
 "nbformat_minor": 2
}