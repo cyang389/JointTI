{
 "cells": [
  {
   "cell_type": "code",
   "execution_count": null,
   "metadata": {},
   "outputs": [],
   "source": [
    "#TODO: Dataset, data['label'], check optimizers, check structure"
   ]
  },
  {
   "cell_type": "code",
   "execution_count": 2,
   "metadata": {},
   "outputs": [],
   "source": [
    "import numpy as np\n",
    "import pandas as pd\n",
    "from scipy import sparse\n",
    "\n",
    "import torch\n",
    "import torch.nn.functional as F\n",
    "import torch.nn as nn\n",
    "import torch.optim as optim\n",
    "import diffusion_dist as diff\n",
    "\n",
    "import matplotlib.pyplot as plt\n",
    "\n",
    "from sklearn import decomposition, preprocessing\n",
    "from torch.utils.data import Dataset, DataLoader\n",
    "\n",
    "import model.autoencoder as ae\n",
    "\n",
    "from dataset import test_s_curve"
   ]
  },
  {
   "cell_type": "code",
   "execution_count": 3,
   "metadata": {},
   "outputs": [],
   "source": [
    "expr_RNA = pd.read_csv(\"./data/Paul/Paul_processed_expr.csv\", index_col=0).values\n",
    "cell_info = pd.read_csv(\"./data/Paul/Paul_cell_meta.txt\", sep=\"\\t\")\n",
    "clusters = cell_info['cell_type2']"
   ]
  },
  {
   "cell_type": "code",
   "execution_count": 4,
   "metadata": {},
   "outputs": [],
   "source": [
    "DPT_RNA = diff.DPT_similarity(expr_RNA)\n",
    "# Phate distance\n",
    "Phate_RNA = diff.phate_similarity(expr_RNA, t = 5, use_potential = True)\n",
    "# Diffmap distance\n",
    "Diffmap_RNA = diff.phate_similarity(expr_RNA, t = 5, use_potential = False)\n",
    "\n",
    "DPT_RNA = torch.FloatTensor(DPT_RNA)\n",
    "Phate_RNA = torch.FloatTensor(Phate_RNA)\n",
    "Diffmap_RNA = torch.FloatTensor(Diffmap_RNA)"
   ]
  },
  {
   "cell_type": "code",
   "execution_count": 6,
   "metadata": {},
   "outputs": [],
   "source": [
    "# TODO: ATAC data\n",
    "expr_ATAC = expr_RNA\n",
    "DPT_ATAC = diff.DPT_similarity(expr_ATAC)\n",
    "Phate_ATAC = diff.phate_similarity(expr_ATAC, t = 5, use_potential = True)\n",
    "Diffmap_ATAC = diff.phate_similarity(expr_ATAC, t = 5, use_potential = False)\n",
    "\n",
    "DPT_ATAC = torch.FloatTensor(DPT_ATAC)\n",
    "Phate_ATAC = torch.FloatTensor(Phate_ATAC)\n",
    "Diffmap_ATAC = torch.FloatTensor(Diffmap_ATAC)"
   ]
  },
  {
   "cell_type": "code",
   "execution_count": 7,
   "metadata": {},
   "outputs": [],
   "source": [
    "def pairwise_distance(x):\n",
    "    x_norm = (x**2).sum(1).view(-1, 1)\n",
    "    y_norm = x_norm.view(1, -1)\n",
    "    dist = x_norm + y_norm - 2.0 * torch.mm(x, torch.transpose(x, 0, 1))\n",
    "    dist = torch.sqrt(dist + 1e-2)\n",
    "    return dist "
   ]
  },
  {
   "cell_type": "code",
   "execution_count": 9,
   "metadata": {},
   "outputs": [],
   "source": [
    "def dist_loss(z, diff_sim, lamb):\n",
    "    latent_sim = latent_sim / torch.nrom(latent_sim)\n",
    "    diff_sim = diff_sim / torch.norm(diff_sim)\n",
    "    return - lamb * latent_sim * diff_sim"
   ]
  },
  {
   "cell_type": "code",
   "execution_count": 8,
   "metadata": {},
   "outputs": [],
   "source": [
    "def ae_loss(recon_rna, recon_atac, x_rna, x_atac, z_rna, z_atac, diff_sim_rna, diff_sim_atac, lamb_rna = 1, lamb_atac = 1, lamb_dist_rna = 1, lamb_dist_atac = 1):\n",
    "    \n",
    "    loss_recon_rna = lamb_rna * F.mse_loss(recon_rna, x_rna)\n",
    "    loss_recon_atac = lamb_atac * F.mse_loss(recon_atac, x_atac)\n",
    "\n",
    "    loss_dist_rna = dist_loss(z_rna, diff_sim_rna, lamb_dist_rna)\n",
    "    loss_dist_atac = dist_loss(z_atac, diff_sim_atac, lamb_dist_atac)\n",
    "\n",
    "    total_loss = loss_recon_rna + loss_recon_atac + loss_dist_rna + loss_dist_atac\n",
    "\n",
    "    return total_loss, loss_recon_rna, loss_recon_atac, loss_dist_rna, loss_dist_atac"
   ]
  },
  {
   "cell_type": "code",
   "execution_count": 10,
   "metadata": {},
   "outputs": [],
   "source": [
    "def train(model, disc, data_loader, diff_sim_rna, diff_sim_atac, n_epochs = 100, learning_rate = 1e-3, lamb_rna = 1, lamb_atac = 1, lamb_dist_rna = 1, lamb_dist_atac = 1):\n",
    "    \n",
    "    # not sure about this\n",
    "    optimizer = torch.optim.Adam(model.parameters(), lr = learning_rate)    \n",
    "    optimizer_E_rna = torch.optim.Adam(model.rna_encoder.parameters(), lr = learning_rate)\n",
    "    optimizer_E_atac = torch.optim.Adam(model.atac_encoder.parameters(), lr = learning_rate)\n",
    "    optimizer_D = torch.optim.Adam(disc.parameters(), lr = learning_rate)\n",
    "\n",
    "    for epoch in n_epochs:\n",
    "        for data in data_loader:\n",
    "            batch_cols = data['index']\n",
    "            batch_sim_rna = diff_sim_rna[batch_cols,:][:,batch_cols]\n",
    "            batch_sim_atac = diff_sim_atac[batch_cols,:][:,batch_cols]\n",
    "            batch_x_rna = data['RNA']\n",
    "            batch_x_atac = data['ATAC']\n",
    "            batch_label = data['label']\n",
    "\n",
    "            # update AE\n",
    "            recon_rna, recon_atac, z_rna, z_atac = model(batch_x_rna, batch_x_atac)\n",
    "            total_loss, loss_recon_rna, loss_recon_atac, loss_dist_rna, loss_dist_atac = ae_loss(recon_rna, recon_atac, batch_x_rna, batch_x_atac, z_rna, z_atac, batch_sim_rna, batch_sim_atac)\n",
    "            total_loss.backward()\n",
    "            optimizer.step()\n",
    "            optimizer.zero_grad()\n",
    "\n",
    "            # update Discriminator\n",
    "            D_loss_avg = 0\n",
    "            n_iter = 10\n",
    "            for disc_iter in range(n_iter):\n",
    "                output = torch.cat((disc(z_rna), disc(z_atac)))\n",
    "                D_loss = F.nll_loss(output, batch_label)\n",
    "                D_loss_avg += D_loss.item()\n",
    "                D_loss.backward()\n",
    "                optimizer_D.step()\n",
    "                optimizer_D.zero_grad()\n",
    "            D_loss_avg /= n_iter\n",
    "\n",
    "            # update Encoder\n",
    "            E_loss = -1 * D_loss\n",
    "            E_loss.backward()\n",
    "            optimizer_E_rna.step()\n",
    "            optimizer_E_atac.step()\n",
    "            optimizer_E_rna.zero_grad()\n",
    "            optimizer_E_atac.zero_grad()\n",
    "\n",
    "        if epoch % 10 == 0:\n",
    "            print(\"AE loss: \", total_loss.item(), \"D loss: \", D_loss_avg)"
   ]
  },
  {
   "cell_type": "code",
   "execution_count": null,
   "metadata": {},
   "outputs": [],
   "source": []
  }
 ],
 "metadata": {
  "kernelspec": {
   "name": "Python 3.7.4 64-bit ('base': conda)",
   "display_name": "Python 3.7.4 64-bit ('base': conda)",
   "metadata": {
    "interpreter": {
     "hash": "15ee6fd031143f4c5e9c2eecd17e0fe2dbe0e7fe51c170036372a3b5b0dc78b4"
    }
   }
  }
 },
 "nbformat": 4,
 "nbformat_minor": 4
}