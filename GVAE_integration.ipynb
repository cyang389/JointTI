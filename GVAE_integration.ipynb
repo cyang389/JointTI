{
 "cells": [
  {
   "cell_type": "code",
   "execution_count": 1,
   "metadata": {},
   "outputs": [],
   "source": [
    "import numpy as np\n",
    "import pandas as pd\n",
    "from model.autoencoder import AutoEncoder\n",
    "# from model.vae import aligned_vae, vae\n",
    "import torch\n",
    "import torch.nn as nn\n",
    "import torch.nn.functional as F\n",
    "from torch.utils.data import Dataset, DataLoader\n",
    "from sklearn.preprocessing import StandardScaler\n",
    "\n",
    "import torch.optim as optim\n",
    "\n",
    "import diffusion_dist as diff\n",
    "import matplotlib.pyplot as plt\n",
    "\n",
    "from sklearn.decomposition import PCA\n",
    "from dataset import *\n",
    "import scipy\n",
    "import math\n",
    "\n",
    "# from model.gae import gnn_vae, aligned_gvae, aligned_gae, GraphConvolutionSage\n",
    "\n",
    "# from model.gae import GraphConvolutionSage\n",
    "from torch.nn.parameter import Parameter\n",
    "\n",
    "\n",
    "from model.loss import gae_loss, gvae_loss\n",
    "\n",
    "device = torch.device('cuda' if torch.cuda.is_available() else 'cpu')"
   ]
  },
  {
   "cell_type": "code",
   "execution_count": 2,
   "metadata": {},
   "outputs": [],
   "source": [
    "\n",
    "class gnn_ae(nn.Module):\n",
    "    def __init__(self, input_feat_dim, hidden_dim1, hidden_dim2, hidden_dim3, dropout = 0.):\n",
    "        super(gnn_ae, self).__init__()\n",
    "\n",
    "        self.gc1 = GraphConvolutionSage(input_feat_dim, hidden_dim1, dropout)\n",
    "        # the later two layers with activation linear\n",
    "        self.gc2 = GraphConvolutionSage(hidden_dim1, hidden_dim2, dropout)\n",
    "\n",
    "        # final layer can be either graph conv or linear\n",
    "#         self.gc3 = GraphConvolutionSage(hidden_dim2, hidden_dim3, dropout)\n",
    "        \n",
    "        self.dc = pairwiseDistDecoder(dropout)\n",
    "\n",
    "\n",
    "\n",
    "    def reset_parameters(self):\n",
    "        self.gc1.reset_parameters()\n",
    "        self.gc2.reset_parameters()\n",
    "#         self.gc3.reset_parameters()\n",
    "\n",
    "\n",
    "    def encode(self, x, adj):\n",
    "        # N * hidden_dim1\n",
    "        hidden1 = self.gc2(self.gc1(x, adj), adj)\n",
    "        # mean and variance of the dimension N * hidden_dim2\n",
    "#         return self.gc3(hidden1, adj)\n",
    "        return hidden1\n",
    "\n",
    "    def forward(self, x, adj):\n",
    "        z = self.encode(x, adj)      \n",
    "        adj_recon = self.dc(z)\n",
    "        return adj_recon, z"
   ]
  },
  {
   "cell_type": "code",
   "execution_count": 3,
   "metadata": {},
   "outputs": [],
   "source": [
    "class GraphConvolutionSage(nn.Module):\n",
    "    \"\"\"\n",
    "    GraphSAGE\n",
    "    \"\"\"\n",
    "\n",
    "    def __init__(self, in_features, out_features, dropout=0.):\n",
    "        super(GraphConvolutionSage, self).__init__()\n",
    "        self.in_features = in_features\n",
    "        self.out_features = out_features\n",
    "        self.dropout = dropout\n",
    "\n",
    "        self.weight_neigh = Parameter(torch.FloatTensor(out_features, out_features))\n",
    "        self.weight_self = Parameter(torch.FloatTensor(in_features, out_features))\n",
    "        self.weight_support = Parameter(torch.FloatTensor(in_features, out_features))\n",
    "        self.weight_linear = Parameter(torch.FloatTensor(out_features, out_features))\n",
    "\n",
    "\n",
    "        # with dimension (1, out_features), with broadcast -> (N, Dout)\n",
    "        self.bias_support = Parameter(torch.FloatTensor(1, out_features))\n",
    "        self.bias_linear = Parameter(torch.FloatTensor(1, out_features))\n",
    "\n",
    "    def reset_parameters(self):\n",
    "        torch.nn.init.xavier_uniform_(self.weight_neigh)\n",
    "        torch.nn.init.xavier_uniform_(self.weight_self)\n",
    "        torch.nn.init.xavier_uniform_(self.weight_support)\n",
    "        torch.nn.init.xavier_uniform_(self.weight_linear)\n",
    "\n",
    "        # initialization requires two dimension\n",
    "        torch.nn.init.xavier_uniform_(self.bias_support)\n",
    "        torch.nn.init.xavier_uniform_(self.bias_linear)\n",
    "        \n",
    "\n",
    "    def forward(self, input, adj):\n",
    "        # first dropout some inputs\n",
    "        input = F.dropout(input, self.dropout, self.training)\n",
    "\n",
    "        # Message: two ways\n",
    "        support = F.sigmoid(torch.mm(input, self.weight_support) + self.bias_support)\n",
    "\n",
    "        # Aggregation:\n",
    "        # addition here, could try element-wise max, make diagonal position 0\n",
    "        output = torch.mm(adj, support)\n",
    "\n",
    "        # Update: \n",
    "        # output of dimension N * Dout, \n",
    "        # tried tanh and relu, not very good result, add one linear layer\n",
    "        output = F.relu(torch.mm(output, self.weight_neigh) + torch.mm(input, self.weight_self))\n",
    "        # output = torch.mm(output, self.weight_linear) + self.bias_linear\n",
    "        \n",
    "        return output\n",
    "\n",
    "    def __repr__(self):\n",
    "        return self.__class__.__name__ + ' (' \\\n",
    "               + str(self.in_features) + ' -> ' \\\n",
    "               + str(self.out_features) + ')'"
   ]
  },
  {
   "cell_type": "code",
   "execution_count": 4,
   "metadata": {},
   "outputs": [],
   "source": [
    "class curr_gae(nn.Module):\n",
    "    def __init__(self, feature1_dim, feature2_dim, hidden_dim1, hidden_dim2, hidden_dim3, dropout = 0.):\n",
    "        super(curr_gae, self).__init__()\n",
    "\n",
    "        self.gae1 = gnn_ae(feature1_dim, hidden_dim1, hidden_dim2, hidden_dim3, dropout = dropout)\n",
    "        self.gae2 = gnn_ae(feature2_dim, hidden_dim1, hidden_dim2, hidden_dim3, dropout=dropout)\n",
    "    \n",
    "    def reset_parameters(self):\n",
    "        self.gae1.reset_parameters()\n",
    "        self.gae2.reset_parameters()\n",
    "\n",
    "    def forward(self, x1, x2, adj1, adj2):\n",
    "        adj_recon1, z1 = self.gae1(x1, adj1)\n",
    "        adj_recon2, z2 = self.gae2(x2, adj2)\n",
    "                \n",
    "        return adj_recon1, adj_recon2, z1, z2"
   ]
  },
  {
   "cell_type": "code",
   "execution_count": 5,
   "metadata": {},
   "outputs": [],
   "source": [
    "\n",
    "class pairwiseDistDecoder(nn.Module):\n",
    "    \"\"\"Decoder for using pair-wise distance for prediction.\"\"\"\n",
    "\n",
    "    def __init__(self, dropout):\n",
    "        super(pairwiseDistDecoder, self).__init__()\n",
    "        self.dropout = dropout\n",
    "\n",
    "    def forward(self, z):\n",
    "        z = F.dropout(z, self.dropout, training=self.training)\n",
    "        x_norm = (z**2).sum(1).view(-1, 1)\n",
    "        y_norm = x_norm.view(1, -1)\n",
    "        dist = x_norm + y_norm - 2.0 * torch.mm(z, torch.transpose(z, 0, 1))\n",
    "\n",
    "        return dist "
   ]
  },
  {
   "cell_type": "code",
   "execution_count": 6,
   "metadata": {},
   "outputs": [],
   "source": [
    "# atac_dataset_diffmap = graphdata('./data/expr_atac_processed.csv', k = 20,  diff = \"diffmap\")\n",
    "# rna_dataset_diffmap = graphdata('./data/expr_rna_processed.csv', k = 20, diff=\"diffmap\")\n",
    "# torch.save(atac_dataset_diffmap, f= \"./data/atac_diffmap.pt\")\n",
    "# torch.save(rna_dataset_diffmap, f = \"./data/rna_diffmap.pt\")\n",
    "atac_dataset_diffmap = torch.load(f = \"./data/atac_diffmap.pt\")\n",
    "rna_dataset_diffmap = torch.load(f = \"./data/rna_diffmap.pt\")"
   ]
  },
  {
   "cell_type": "code",
   "execution_count": 7,
   "metadata": {},
   "outputs": [],
   "source": [
    "# atac_dataset_dpt = graphdata('./data/expr_atac_processed.csv', k = 20,  diff = \"dpt\")\n",
    "# rna_dataset_dpt = graphdata('./data/expr_rna_processed.csv', k = 20, diff=\"dpt\")\n",
    "# torch.save(atac_dataset_dpt, f = \"./data/atac_dpt.pt\")\n",
    "# torch.save(rna_dataset_dpt, f = \"./data/rna_dpt.pt\")\n",
    "atac_dataset_dpt = torch.load(f = \"./data/atac_dpt.pt\")\n",
    "rna_dataset_dpt = torch.load(f = \"./data/rna_dpt.pt\")"
   ]
  },
  {
   "cell_type": "code",
   "execution_count": 8,
   "metadata": {},
   "outputs": [],
   "source": [
    "# atac_dataset_dpt = testgraphdata(None, 10)\n",
    "# rna_dataset_dpt = testgraphdata(None, 10)"
   ]
  },
  {
   "cell_type": "code",
   "execution_count": 9,
   "metadata": {
    "tags": []
   },
   "outputs": [],
   "source": [
    "# gvae = aligned_gvae(feature1_dim = rna_dataset_diffmap['X'].shape[1], feature2_dim = atac_dataset_diffmap['X'].shape[1], hidden_dim1 = 128, hidden_dim2 = 32, hidden_dim3 = 2, dropout = 0., use_mlp = False, decoder = \"distance\")\n",
    "\n",
    "# optimizer = optim.Adam(gvae.parameters(), lr=1e-2, weight_decay=0.01)\n",
    "# gvae.train()\n",
    "# gvae.reset_parameters()\n",
    "\n",
    "# for epoch in range(0, 60):\n",
    "\n",
    "#     optimizer.zero_grad()\n",
    "\n",
    "#     dist_rna, dist_atac, latent_rna, latent_atac, logvar_rna, logvar_atac = gvae(rna_dataset_diffmap['X'], atac_dataset_diffmap['X'], rna_dataset_diffmap['similarity'], atac_dataset_diffmap['similarity'])\n",
    "\n",
    "#     loss, loss_align, loss_dist_atac,  loss_dist_rna, kl_atac, kl_rna = gvae_loss(latent1 = latent_rna, latent2 = latent_atac, adj1 = rna_dataset_diffmap['adj'], adj2 = atac_dataset_diffmap['adj'], recon_adj1 = dist_rna, recon_adj2 = dist_atac, logvar_latent1 = logvar_rna, logvar_latent2 = logvar_atac, lamb_align = 0, lamb_kl = 0, dist_loss_type = \"cosine\")\n",
    "#     loss.backward()\n",
    "#     optimizer.step()\n",
    "#     # print(latent_rna)\n",
    "\n",
    "#     if epoch % 10 == 0:\n",
    "#         log = \"Epoch: {:03d}, Total loss: {:.5f}, loss align {:.5f}, Dist RNA loss {:.5f}, Dist ATAC loss {:.5f}, KL atac loss: {:.5f}, KL rna loss: {:.5f}\"\n",
    "#         print(log.format(epoch, loss, loss_align, loss_dist_atac, loss_dist_rna, kl_atac, kl_rna))"
   ]
  },
  {
   "cell_type": "code",
   "execution_count": 8,
   "metadata": {},
   "outputs": [],
   "source": [
    "def mse_loss(latent1, latent2, adj1, adj2, recon_adj1, recon_adj2, lamb_align = 0.01):\n",
    "\n",
    "    loss_align = lamb_align * torch.norm(latent1 - latent2, p = 'fro')\n",
    "    \n",
    "    \n",
    "    adj1 = adj1 ** 2\n",
    "    adj2 = adj2 ** 2\n",
    "    adj1 = (adj1 / torch.norm(adj1, p = 'fro')) \n",
    "    adj2 = (adj2 / torch.norm(adj2, p = 'fro')) \n",
    "    recon_1 = (recon_adj1 / torch.norm(recon_adj1, p = \"fro\"))\n",
    "    recon_2 = (recon_adj2 / torch.norm(recon_adj2, p = \"fro\")) \n",
    "\n",
    "    # mse approx, mse loss change sqrt with mean from norm loss\n",
    "#     similarity_loss1 = torch.norm(recon_adj1 - adj1, p = \"fro\") ** 2 / (adj1.shape[0] ** 2)\n",
    "#     similarity_loss2 = torch.norm(recon_adj2 - adj2, p = \"fro\") ** 2 / (adj2.shape[0] ** 2)\n",
    "#     similarity_loss1_2 = F.mse_loss(adj1.reshape(1,-1), recon_1.reshape(1,-1), reduce=\"mean\")\n",
    "#     similarity_loss2_2 = F.mse_loss(adj2.reshape(1,-1), recon_2.reshape(1,-1), reduce=\"mean\")\n",
    "    \n",
    "    similarity_loss1 = torch.norm(recon_adj1 - adj1, p = \"fro\")\n",
    "    similarity_loss2 = torch.norm(recon_adj2 - adj2, p = \"fro\")\n",
    "    \n",
    "    loss = loss_align + similarity_loss1 + similarity_loss2 \n",
    "    \n",
    "    return loss, loss_align, similarity_loss1,  similarity_loss2"
   ]
  },
  {
   "cell_type": "code",
   "execution_count": 13,
   "metadata": {},
   "outputs": [],
   "source": [
    "# use distance matrix\n",
    "\n",
    "gae = curr_gae(feature1_dim = rna_dataset_dpt['X'].shape[1], \n",
    "               feature2_dim = atac_dataset_dpt['X'].shape[1], \n",
    "               hidden_dim1 = 128, hidden_dim2 = 32, hidden_dim3 = 2, dropout = 0.)\n",
    "\n",
    "optimizer = optim.Adam(gae.parameters(), lr=1e-4, weight_decay=0.01)\n",
    "gae.train()\n",
    "gae.reset_parameters()"
   ]
  },
  {
   "cell_type": "code",
   "execution_count": 18,
   "metadata": {
    "tags": []
   },
   "outputs": [
    {
     "name": "stdout",
     "output_type": "stream",
     "text": [
      "Epoch: 000, Total loss: 3.47641, loss align 1.47398, Dist RNA loss 1.00125, Dist ATAC loss 1.00118\n",
      "Epoch: 010, Total loss: 3.25998, loss align 1.25767, Dist RNA loss 1.00096, Dist ATAC loss 1.00135\n",
      "Epoch: 020, Total loss: 4.20955, loss align 2.20734, Dist RNA loss 1.00104, Dist ATAC loss 1.00117\n",
      "Epoch: 030, Total loss: 3.97806, loss align 1.97613, Dist RNA loss 1.00085, Dist ATAC loss 1.00108\n",
      "Epoch: 040, Total loss: 4.16220, loss align 2.16022, Dist RNA loss 1.00031, Dist ATAC loss 1.00167\n",
      "Epoch: 050, Total loss: 3.68893, loss align 1.68748, Dist RNA loss 1.00031, Dist ATAC loss 1.00114\n",
      "Epoch: 060, Total loss: 3.12239, loss align 1.12166, Dist RNA loss 1.00016, Dist ATAC loss 1.00056\n",
      "Epoch: 070, Total loss: 4.33767, loss align 2.33645, Dist RNA loss 0.99997, Dist ATAC loss 1.00125\n",
      "Epoch: 080, Total loss: 3.00484, loss align 1.00460, Dist RNA loss 1.00001, Dist ATAC loss 1.00024\n",
      "Epoch: 090, Total loss: 3.15522, loss align 1.15511, Dist RNA loss 1.00006, Dist ATAC loss 1.00005\n"
     ]
    }
   ],
   "source": [
    "\n",
    "\n",
    "for epoch in range(0, 100):\n",
    "\n",
    "    optimizer.zero_grad()\n",
    "\n",
    "    dist_rna, dist_atac, latent_rna, latent_atac = gae(rna_dataset_dpt['X'], atac_dataset_dpt['X'], \n",
    "                                                       rna_dataset_dpt['similarity'], atac_dataset_dpt['similarity'])\n",
    "\n",
    "    # loss, loss_align, loss_dist_atac,  loss_dist_rna = gae_loss(latent1 = latent_rna, latent2 = latent_atac, adj1 = rna_dataset_diffmap['adj'], adj2 = atac_dataset_diffmap['adj'], recon_adj1 = dist_rna, recon_adj2 = dist_atac, lamb_align = 1e-3, dist_loss_type = \"mse\")\n",
    "\n",
    "    loss, loss_align, loss_dist_atac,  loss_dist_rna = mse_loss(latent1 = latent_rna, latent2 = latent_atac, \n",
    "                                                                adj1 = rna_dataset_dpt['adj'], \n",
    "                                                                adj2 = atac_dataset_dpt['adj'], \n",
    "                                                                recon_adj1 = dist_rna, recon_adj2 = dist_atac, \n",
    "                                                                lamb_align = 100)\n",
    "    loss.backward()\n",
    "    \n",
    "    # print(latent_rna)\n",
    "    \n",
    "    if epoch % 10 == 0 or epoch == 0:\n",
    "        log = \"Epoch: {:03d}, Total loss: {:.5f}, loss align {:.5f}, Dist RNA loss {:.5f}, Dist ATAC loss {:.5f}\"\n",
    "        print(log.format(epoch, loss, loss_align, loss_dist_atac, loss_dist_rna))\n",
    "        \n",
    "    \n",
    "    optimizer.step()"
   ]
  },
  {
   "cell_type": "code",
   "execution_count": 19,
   "metadata": {},
   "outputs": [],
   "source": [
    "torch.save(gae.state_dict(), \"gae_best.ptH\")"
   ]
  },
  {
   "cell_type": "code",
   "execution_count": 32,
   "metadata": {},
   "outputs": [
    {
     "data": {
      "text/plain": [
       "<matplotlib.collections.PathCollection at 0x7fefaaf16ed0>"
      ]
     },
     "execution_count": 32,
     "metadata": {},
     "output_type": "execute_result"
    },
    {
     "data": {
      "image/png": "[encoded data removed]",
      "text/plain": [
       "<Figure size 1440x720 with 1 Axes>"
      ]
     },
     "metadata": {
      "needs_background": "light"
     },
     "output_type": "display_data"
    }
   ],
   "source": [
    "gae.eval()\n",
    "dist_rna, dist_atac, latent_rna, latent_atac = gae(rna_dataset_dpt['X'], atac_dataset_dpt['X'], \n",
    "                                                   rna_dataset_dpt['similarity'], atac_dataset_dpt['similarity'])\n",
    "\n",
    "z1 = 1e5* latent_rna.detach().cpu().numpy()\n",
    "z2 = 1e5* latent_atac.detach().cpu().numpy()\n",
    "\n",
    "fig = plt.figure(figsize = (20,10))\n",
    "ax = fig.add_subplot()\n",
    "ax.scatter(z2[:,0], z2[:,1], c = np.arange(rna_dataset_diffmap['X'].shape[0]))"
   ]
  },
  {
   "cell_type": "code",
   "execution_count": 33,
   "metadata": {},
   "outputs": [
    {
     "data": {
      "text/plain": [
       "array([   0.     ,  699.4187 ,  858.73157, 2066.9932 ], dtype=float32)"
      ]
     },
     "execution_count": 33,
     "metadata": {},
     "output_type": "execute_result"
    }
   ],
   "source": [
    "np.unique(z2)"
   ]
  },
  {
   "cell_type": "code",
   "execution_count": 26,
   "metadata": {},
   "outputs": [
    {
     "data": {
      "text/plain": [
       "0.020515088"
      ]
     },
     "execution_count": 26,
     "metadata": {},
     "output_type": "execute_result"
    }
   ],
   "source": [
    "np.linalg.norm(z2 - z1)"
   ]
  },
  {
   "cell_type": "code",
   "execution_count": null,
   "metadata": {},
   "outputs": [],
   "source": []
  }
 ],
 "metadata": {
  "kernelspec": {
   "display_name": "Python 3.7.6 64-bit ('dnn': conda)",
   "language": "python",
   "name": "python37664bitdnncondaf545b23edf394072b06b772933f9fcfb"
  },
  "language_info": {
   "codemirror_mode": {
    "name": "ipython",
    "version": 3
   },
   "file_extension": ".py",
   "mimetype": "text/x-python",
   "name": "python",
   "nbconvert_exporter": "python",
   "pygments_lexer": "ipython3",
   "version": "3.7.6"
  }
 },
 "nbformat": 4,
 "nbformat_minor": 2
}
