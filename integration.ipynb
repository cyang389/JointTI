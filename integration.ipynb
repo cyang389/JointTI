{
 "metadata": {
  "language_info": {
   "codemirror_mode": {
    "name": "ipython",
    "version": 3
   },
   "file_extension": ".py",
   "mimetype": "text/x-python",
   "name": "python",
   "nbconvert_exporter": "python",
   "pygments_lexer": "ipython3",
   "version": "3.7.6-final"
  },
  "orig_nbformat": 2,
  "kernelspec": {
   "name": "python37664bitdnncondaf545b23edf394072b06b772933f9fcfb",
   "display_name": "Python 3.7.6 64-bit ('dnn': conda)"
  }
 },
 "nbformat": 4,
 "nbformat_minor": 2,
 "cells": [
  {
   "cell_type": "code",
   "execution_count": 1,
   "metadata": {},
   "outputs": [],
   "source": [
    "import numpy as np\n",
    "import pandas as pd\n",
    "from model.autoencoder import AutoEncoder\n",
    "from model.vae import VAE\n",
    "import torch\n",
    "import torch.nn.functional as F\n",
    "from torch.utils.data import Dataset, DataLoader\n",
    "from sklearn.preprocessing import StandardScaler"
   ]
  },
  {
   "cell_type": "code",
   "execution_count": 2,
   "metadata": {},
   "outputs": [],
   "source": [
    "pd_atac = pd.read_csv('./data/expr_atac_processed.csv', index_col=0)\n",
    "pd_rna = pd.read_csv('./data/expr_rna_processed.csv', index_col=0)\n",
    "atac = pd_atac.to_numpy()\n",
    "rna = pd_rna.to_numpy()"
   ]
  },
  {
   "cell_type": "code",
   "execution_count": 21,
   "metadata": {},
   "outputs": [],
   "source": [
    "def pairwise_distances(x):\n",
    "    x_norm = (x**2).sum(1).view(-1, 1)\n",
    "    y = x\n",
    "    y_norm = x_norm.view(1, -1)\n",
    "\n",
    "    dist = x_norm + y_norm - 2.0 * torch.mm(x, torch.transpose(y, 0, 1))\n",
    "    return dist "
   ]
  },
  {
   "cell_type": "code",
   "execution_count": 23,
   "metadata": {},
   "outputs": [],
   "source": [
    "def loss(recon_atac, recon_rna, atac, rna, z, diff_distance, lamb):\n",
    "    loss = F.mse_loss(rna, recon_rna) + F.mse_loss(atac, recon_atac) + lamb * F.mse_loss(diff_distance.reshape(-1), pairwise_distances(x).reshape(-1))\n",
    "    return loss"
   ]
  },
  {
   "cell_type": "code",
   "execution_count": 31,
   "metadata": {},
   "outputs": [],
   "source": [
    "class scDataset(Dataset):\n",
    "\n",
    "    def __init__(self, atac_seq_file = \"./data/expr_atac_processed.csv\", rna_seq_file = \"./data/expr_rna_processed.csv\", standardize = False):\n",
    "        self.expr_ATAC = pd.read_csv(atac_seq_file, index_col=0).to_numpy()\n",
    "        self.expr_RNA = pd.read_csv(rna_seq_file, index_col=0).to_numpy()\n",
    "        # standardize\n",
    "        if standardize:\n",
    "            self.expr_ATAC = StandardScaler().fit_transform(self.expr_ATAC)\n",
    "            self.expr_RNA = StandardScaler().fit_transform(self.expr_RNA)\n",
    "\n",
    "        # self.transform = transform\n",
    "    \n",
    "    def __len__(self):\n",
    "        # number of cells\n",
    "        return len(self.expr_ATAC)\n",
    "\n",
    "    def __getitem__(self, idx):\n",
    "        if torch.is_tensor(idx):\n",
    "            idx = idx.tolist()\n",
    "        \n",
    "        # index denote the index of the cell\n",
    "        sample = {'ATAC': self.expr_ATAC[idx,:], 'RNA':self.expr_RNA[idx,:], 'index':idx}\n",
    "        \n",
    "        # if self.transform:\n",
    "        #     sample = self.transform(sample)\n",
    "        \n",
    "        return sample\n",
    "\n",
    "# # transform\n",
    "# class standardize(object):\n",
    "\n",
    "#     def __call__(self, sample):\n",
    "#         sample_ATAC = StandardScaler().fit_transform(sample['ATAC'][None,:])\n",
    "#         sample_RNA = StandardScaler().fit_transform(sample['RNA'][None,:])\n",
    "#         return {'ATAC': torch.from_numpy(sample_ATAC.squeeze()), 'RNA':torch.from_numpy(sample_RNA.squeeze())}"
   ]
  },
  {
   "cell_type": "code",
   "execution_count": 32,
   "metadata": {
    "tags": []
   },
   "outputs": [],
   "source": [
    "sc_dataset = scDataset(standardize = True)\n",
    "data_loader = DataLoader(sc_dataset, batch_size=4, shuffle=True, num_workers=0)"
   ]
  },
  {
   "cell_type": "code",
   "execution_count": 33,
   "metadata": {},
   "outputs": [],
   "source": [
    "for idx, data in enumerate(data_loader):\n",
    "    data\n",
    "    break"
   ]
  },
  {
   "cell_type": "code",
   "execution_count": 34,
   "metadata": {},
   "outputs": [
    {
     "output_type": "execute_result",
     "data": {
      "text/plain": "torch.Size([4, 1185])"
     },
     "metadata": {},
     "execution_count": 34
    }
   ],
   "source": [
    "data['RNA'].shape"
   ]
  },
  {
   "cell_type": "code",
   "execution_count": 35,
   "metadata": {},
   "outputs": [
    {
     "output_type": "execute_result",
     "data": {
      "text/plain": "{'ATAC': tensor([[-0.0412, -0.0582, -0.0491,  ..., -0.0845, -0.0458, -0.0634],\n         [-0.0412, -0.0582, -0.0491,  ..., -0.0845, -0.0458, -0.0634],\n         [-0.0412, -0.0582, -0.0491,  ..., -0.0845, 20.5111, -0.0634],\n         [-0.0412, -0.0582, -0.0491,  ..., -0.0845, -0.0458, -0.0634]],\n        dtype=torch.float64),\n 'RNA': tensor([[-0.2093,  0.9976, -0.8166,  ...,  2.3138,  0.8202,  4.3546],\n         [-0.2093, -0.4197,  0.5704,  ..., -0.3284, -0.5554, -0.3166],\n         [-0.2093, -0.4197,  1.0574,  ..., -0.3284, -0.5554, -0.3166],\n         [-0.2093, -0.4197, -0.8166,  ..., -0.3284, -0.5554, -0.3166]],\n        dtype=torch.float64),\n 'index': tensor([ 518, 1883, 1095, 1894])}"
     },
     "metadata": {},
     "execution_count": 35
    }
   ],
   "source": [
    "data"
   ]
  },
  {
   "cell_type": "code",
   "execution_count": null,
   "metadata": {},
   "outputs": [],
   "source": []
  }
 ]
}