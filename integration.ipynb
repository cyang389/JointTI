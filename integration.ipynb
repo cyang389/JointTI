{
 "metadata": {
  "language_info": {
   "codemirror_mode": {
    "name": "ipython",
    "version": 3
   },
   "file_extension": ".py",
   "mimetype": "text/x-python",
   "name": "python",
   "nbconvert_exporter": "python",
   "pygments_lexer": "ipython3",
   "version": "3.7.4-final"
  },
  "orig_nbformat": 2,
  "kernelspec": {
   "name": "python_defaultSpec_1598843696249",
   "display_name": "Python 3.7.4 64-bit ('base': conda)"
  }
 },
 "nbformat": 4,
 "nbformat_minor": 2,
 "cells": [
  {
   "cell_type": "code",
   "execution_count": 2,
   "metadata": {},
   "outputs": [],
   "source": [
    "import numpy as np\n",
    "import pandas as pd\n",
    "from model.autoencoder import AutoEncoder\n",
    "from model.vae import VAE\n",
    "import torch\n",
    "import torch.nn.functional as F"
   ]
  },
  {
   "cell_type": "code",
   "execution_count": 14,
   "metadata": {},
   "outputs": [],
   "source": [
    "pd_atac = pd.read_csv('./data/expr_atac_processed.csv', index_col=0)\n",
    "pd_rna = pd.read_csv('./data/expr_rna_processed.csv', index_col=0)"
   ]
  },
  {
   "cell_type": "code",
   "execution_count": 18,
   "metadata": {},
   "outputs": [],
   "source": [
    "atac = pd_atac.to_numpy()\n",
    "rna = pd_rna.to_numpy()"
   ]
  },
  {
   "cell_type": "code",
   "execution_count": 19,
   "metadata": {},
   "outputs": [
    {
     "output_type": "execute_result",
     "data": {
      "text/plain": "(2641, 9467)"
     },
     "metadata": {},
     "execution_count": 19
    }
   ],
   "source": [
    "atac.shape"
   ]
  },
  {
   "cell_type": "code",
   "execution_count": 20,
   "metadata": {},
   "outputs": [
    {
     "output_type": "execute_result",
     "data": {
      "text/plain": "(2641, 1185)"
     },
     "metadata": {},
     "execution_count": 20
    }
   ],
   "source": [
    "rna.shape"
   ]
  },
  {
   "cell_type": "code",
   "execution_count": 21,
   "metadata": {},
   "outputs": [],
   "source": [
    "def pairwise_distances(x):\n",
    "    x_norm = (x**2).sum(1).view(-1, 1)\n",
    "    y = x\n",
    "    y_norm = x_norm.view(1, -1)\n",
    "\n",
    "    dist = x_norm + y_norm - 2.0 * torch.mm(x, torch.transpose(y, 0, 1))\n",
    "    return dist "
   ]
  },
  {
   "cell_type": "code",
   "execution_count": 23,
   "metadata": {},
   "outputs": [],
   "source": [
    "def loss(recon_atac, recon_rna, atac, rna, z, diff_distance, lamb):\n",
    "    loss = F.mse_loss(rna, recon_rna) + F.mse_loss(atac, recon_atac) + lamb * F.mse_loss(diff_distance.reshape(-1), pairwise_distances(x).reshape(-1))\n",
    "    return loss"
   ]
  },
  {
   "cell_type": "code",
   "execution_count": null,
   "metadata": {},
   "outputs": [],
   "source": []
  }
 ]
}